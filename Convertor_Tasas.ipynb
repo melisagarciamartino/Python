{
  "nbformat": 4,
  "nbformat_minor": 0,
  "metadata": {
    "colab": {
      "provenance": []
    },
    "kernelspec": {
      "name": "python3",
      "display_name": "Python 3"
    },
    "language_info": {
      "name": "python"
    }
  },
  "cells": [
    {
      "cell_type": "code",
      "execution_count": null,
      "metadata": {
        "id": "yOl8AK893Cxk"
      },
      "outputs": [],
      "source": [
        "#Se armaran clases para hacer conversion de tasas de interes, estas clases seran clase padre de algunos bonos cupon cero y ajustables por cer"
      ]
    },
    {
      "cell_type": "code",
      "source": [
        "from datetime import datetime as dt"
      ],
      "metadata": {
        "id": "P6EIsxGpvUsy"
      },
      "execution_count": null,
      "outputs": []
    },
    {
      "cell_type": "code",
      "source": [
        "class Tasas:\n",
        "\n",
        "  #def __init__(self,año,cap,tea,tna):\n",
        "  # self.año = año\n",
        "  # self.cap = cap\n",
        "  # self.tna = tna\n",
        "  # self.tea = tea\n",
        "\n",
        "  def calculo_tna(self,tea):\n",
        "\n",
        "     año = int(input(\"Ingrese los días del año: \"))\n",
        "     cap= int(input(\"Ingrese la periodicidad de capitalización en días: \"))\n",
        "     tna = ((1+tea)**(cap/año)-1)*(año/cap)\n",
        "     return round(tna*100,5)\n",
        "\n",
        "\n",
        "  def calculo_tea(self,tna):\n",
        "\n",
        "     año = int(input(\"Ingrese los días del año: \"))\n",
        "     cap= int(input(\"Ingrese la periodicidad de capitalización en días: \"))\n",
        "     tea = ((1+tna/(año/cap))**(año/cap)-1)\n",
        "     return round(tea*100,5)\n"
      ],
      "metadata": {
        "id": "sIuDt2FY3WaB"
      },
      "execution_count": null,
      "outputs": []
    },
    {
      "cell_type": "code",
      "source": [
        "class BonoCuponCero(Tasas):\n",
        "\n",
        "  def calculo_tir(self):\n",
        "    precio = int(input(\"Ingrese el precio del bono (c/100VN): \"))\n",
        "    precio_final = 100\n",
        "    fecha_compra = dt.strptime(input(\"Ingrese la fecha de compra: \"), \"%d/%m/%Y\").date\n",
        "    fecha_vencimiento = dt.strptime(input(\"Ingrese la fecha de vencimiento: \"), \"%d/%m/%Y\").date\n",
        "    dias_calculo = fecha_vencimiento - fecha_compra\n",
        "    #tir_calculo = (precio_final/precio -1)/dias_calculo*360\n",
        "    return dias_calculo"
      ],
      "metadata": {
        "id": "OZOff97wt7_w"
      },
      "execution_count": null,
      "outputs": []
    },
    {
      "cell_type": "code",
      "source": [
        "bono_A = Tasas()"
      ],
      "metadata": {
        "id": "xFFjx24z4fX7"
      },
      "execution_count": null,
      "outputs": []
    },
    {
      "cell_type": "code",
      "source": [
        "bono_A = BonoCuponCero()"
      ],
      "metadata": {
        "id": "GX9wSWYzvieC"
      },
      "execution_count": null,
      "outputs": []
    },
    {
      "cell_type": "code",
      "source": [
        "bono_A.calculo_tir()"
      ],
      "metadata": {
        "colab": {
          "base_uri": "https://localhost:8080/",
          "height": 344
        },
        "id": "unQCyOJOvmwx",
        "outputId": "2030410b-4365-4deb-9474-9044cc7ecf74"
      },
      "execution_count": null,
      "outputs": [
        {
          "name": "stdout",
          "output_type": "stream",
          "text": [
            "Ingrese el precio del bono (c/100VN): 99\n",
            "Ingrese la fecha de compra: 07/02/2024\n",
            "Ingrese la fecha de vencimiento: 08/02/2025\n"
          ]
        },
        {
          "output_type": "error",
          "ename": "AttributeError",
          "evalue": "'builtin_function_or_method' object has no attribute 'days'",
          "traceback": [
            "\u001b[0;31m---------------------------------------------------------------------------\u001b[0m",
            "\u001b[0;31mAttributeError\u001b[0m                            Traceback (most recent call last)",
            "\u001b[0;32m<ipython-input-55-4df751657afc>\u001b[0m in \u001b[0;36m<cell line: 1>\u001b[0;34m()\u001b[0m\n\u001b[0;32m----> 1\u001b[0;31m \u001b[0mbono_A\u001b[0m\u001b[0;34m.\u001b[0m\u001b[0mcalculo_tir\u001b[0m\u001b[0;34m(\u001b[0m\u001b[0;34m)\u001b[0m\u001b[0;34m\u001b[0m\u001b[0;34m\u001b[0m\u001b[0m\n\u001b[0m",
            "\u001b[0;32m<ipython-input-52-92965da8de2b>\u001b[0m in \u001b[0;36mcalculo_tir\u001b[0;34m(self)\u001b[0m\n\u001b[1;32m      6\u001b[0m     \u001b[0mfecha_compra\u001b[0m \u001b[0;34m=\u001b[0m \u001b[0mdt\u001b[0m\u001b[0;34m.\u001b[0m\u001b[0mstrptime\u001b[0m\u001b[0;34m(\u001b[0m\u001b[0minput\u001b[0m\u001b[0;34m(\u001b[0m\u001b[0;34m\"Ingrese la fecha de compra: \"\u001b[0m\u001b[0;34m)\u001b[0m\u001b[0;34m,\u001b[0m \u001b[0;34m\"%d/%m/%Y\"\u001b[0m\u001b[0;34m)\u001b[0m\u001b[0;34m.\u001b[0m\u001b[0mdate\u001b[0m\u001b[0;34m\u001b[0m\u001b[0;34m\u001b[0m\u001b[0m\n\u001b[1;32m      7\u001b[0m     \u001b[0mfecha_vencimiento\u001b[0m \u001b[0;34m=\u001b[0m \u001b[0mdt\u001b[0m\u001b[0;34m.\u001b[0m\u001b[0mstrptime\u001b[0m\u001b[0;34m(\u001b[0m\u001b[0minput\u001b[0m\u001b[0;34m(\u001b[0m\u001b[0;34m\"Ingrese la fecha de vencimiento: \"\u001b[0m\u001b[0;34m)\u001b[0m\u001b[0;34m,\u001b[0m \u001b[0;34m\"%d/%m/%Y\"\u001b[0m\u001b[0;34m)\u001b[0m\u001b[0;34m.\u001b[0m\u001b[0mdate\u001b[0m\u001b[0;34m\u001b[0m\u001b[0;34m\u001b[0m\u001b[0m\n\u001b[0;32m----> 8\u001b[0;31m     \u001b[0mdias_calculo\u001b[0m \u001b[0;34m=\u001b[0m \u001b[0mfecha_vencimiento\u001b[0m\u001b[0;34m.\u001b[0m\u001b[0mdays\u001b[0m \u001b[0;34m-\u001b[0m \u001b[0mfecha_compra\u001b[0m\u001b[0;34m.\u001b[0m\u001b[0mdays\u001b[0m\u001b[0;34m\u001b[0m\u001b[0;34m\u001b[0m\u001b[0m\n\u001b[0m\u001b[1;32m      9\u001b[0m     \u001b[0;31m#tir_calculo = (precio_final/precio -1)/dias_calculo*360\u001b[0m\u001b[0;34m\u001b[0m\u001b[0;34m\u001b[0m\u001b[0m\n\u001b[1;32m     10\u001b[0m     \u001b[0;32mreturn\u001b[0m \u001b[0mdias_calculo\u001b[0m\u001b[0;34m\u001b[0m\u001b[0;34m\u001b[0m\u001b[0m\n",
            "\u001b[0;31mAttributeError\u001b[0m: 'builtin_function_or_method' object has no attribute 'days'"
          ]
        }
      ]
    },
    {
      "cell_type": "code",
      "source": [
        "bono_A_tna = -13.69597/100"
      ],
      "metadata": {
        "id": "Vcm_Jn3_6agK"
      },
      "execution_count": null,
      "outputs": []
    },
    {
      "cell_type": "code",
      "source": [
        "fecha_compra = dt.strptime(input(\"Ingrese la fecha de compra: \"), \"%d/%m/%Y\").date\n",
        "fecha_vencimiento = dt.strptime(input(\"Ingrese la fecha de vencimiento: \"), \"%d/%m/%Y\").date\n",
        "fecha_vencimiento"
      ],
      "metadata": {
        "colab": {
          "base_uri": "https://localhost:8080/"
        },
        "id": "HTND1Mxd2Ofl",
        "outputId": "86f376ca-d0ee-4f56-abe2-2bd935d08117"
      },
      "execution_count": null,
      "outputs": [
        {
          "name": "stdout",
          "output_type": "stream",
          "text": [
            "Ingrese la fecha de compra: 07/02/2024\n",
            "Ingrese la fecha de vencimiento: 07/02/2025\n"
          ]
        },
        {
          "output_type": "execute_result",
          "data": {
            "text/plain": [
              "<function datetime.date>"
            ]
          },
          "metadata": {},
          "execution_count": 58
        }
      ]
    },
    {
      "cell_type": "code",
      "source": [
        "bono_A_tea = bono_A.calculo_tea(bono_A_tna)\n",
        "print(bono_A_tea)"
      ],
      "metadata": {
        "colab": {
          "base_uri": "https://localhost:8080/"
        },
        "id": "VHC5LDC27Mcw",
        "outputId": "e5c81023-a623-42b7-b121-7ab63d632f51"
      },
      "execution_count": null,
      "outputs": [
        {
          "output_type": "stream",
          "name": "stdout",
          "text": [
            "Ingrese los días del año: 360\n",
            "Ingrese la periodicidad de capitalización en días: 180\n",
            "-13.22702\n"
          ]
        }
      ]
    },
    {
      "cell_type": "code",
      "source": [
        "bono_A_tna = bono_A.calculo_tna(bono_A_tea/100)\n",
        "print(bono_A_tna)"
      ],
      "metadata": {
        "colab": {
          "base_uri": "https://localhost:8080/"
        },
        "id": "EP2xM3_47qhS",
        "outputId": "eaf481ee-1fbc-49ab-ed7b-3b7be3f8634a"
      },
      "execution_count": null,
      "outputs": [
        {
          "output_type": "stream",
          "name": "stdout",
          "text": [
            "Ingrese los días del año: 360\n",
            "Ingrese la periodicidad de capitalización en días: 180\n",
            "-13.69597\n"
          ]
        }
      ]
    },
    {
      "cell_type": "code",
      "source": [],
      "metadata": {
        "id": "hsRVEThK9h4q"
      },
      "execution_count": null,
      "outputs": []
    }
  ]
}