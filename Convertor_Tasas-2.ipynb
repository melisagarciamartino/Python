{
  "nbformat": 4,
  "nbformat_minor": 0,
  "metadata": {
    "colab": {
      "provenance": []
    },
    "kernelspec": {
      "name": "python3",
      "display_name": "Python 3"
    },
    "language_info": {
      "name": "python"
    }
  },
  "cells": [
    {
      "cell_type": "code",
      "source": [
        "from datetime import datetime as dt"
      ],
      "metadata": {
        "id": "P6EIsxGpvUsy"
      },
      "execution_count": 7,
      "outputs": []
    },
    {
      "cell_type": "code",
      "source": [
        "class Tasas:\n",
        "\n",
        "  #def __init__(self,año,cap,tea,tna):\n",
        "  # self.año = año\n",
        "  # self.cap = cap\n",
        "  # self.tna = tna\n",
        "  # self.tea = tea\n",
        "\n",
        "  def calculo_tna(self,tea):\n",
        "\n",
        "     año = int(input(\"Ingrese los días del año: \"))\n",
        "     cap= int(input(\"Ingrese la periodicidad de capitalización en días: \"))\n",
        "     tna = ((1+tea)**(cap/año)-1)*(año/cap)\n",
        "     return round(tna*100,5)\n",
        "\n",
        "\n",
        "  def calculo_tea(self,tna):\n",
        "\n",
        "     año = int(input(\"Ingrese los días del año: \"))\n",
        "     cap= int(input(\"Ingrese la periodicidad de capitalización en días: \"))\n",
        "     tea = ((1+tna/(año/cap))**(año/cap)-1)\n",
        "     return round(tea*100,5)\n"
      ],
      "metadata": {
        "id": "sIuDt2FY3WaB"
      },
      "execution_count": 8,
      "outputs": []
    },
    {
      "cell_type": "code",
      "source": [
        "Tasa1 = Tasas()"
      ],
      "metadata": {
        "id": "nKKOJyThhdwi"
      },
      "execution_count": 19,
      "outputs": []
    },
    {
      "cell_type": "code",
      "source": [
        "tea1  = 101/100"
      ],
      "metadata": {
        "id": "K5elGqjnhuI6"
      },
      "execution_count": 20,
      "outputs": []
    },
    {
      "cell_type": "code",
      "source": [
        "Tasa1.calculo_tna(tea1)"
      ],
      "metadata": {
        "id": "KY4HwM9qhkOF",
        "outputId": "76a2e080-d79c-4ca9-d3c8-6fd07a868119",
        "colab": {
          "base_uri": "https://localhost:8080/"
        }
      },
      "execution_count": 21,
      "outputs": [
        {
          "name": "stdout",
          "output_type": "stream",
          "text": [
            "Ingrese los días del año: 366\n",
            "Ingrese la periodicidad de capitalización en días: 30\n"
          ]
        },
        {
          "output_type": "execute_result",
          "data": {
            "text/plain": [
              "71.84963"
            ]
          },
          "metadata": {},
          "execution_count": 21
        }
      ]
    },
    {
      "cell_type": "code",
      "source": [
        "tna1 = 71.84963/100"
      ],
      "metadata": {
        "id": "0p14OrCUhnr3"
      },
      "execution_count": 25,
      "outputs": []
    },
    {
      "cell_type": "code",
      "source": [
        "Tasa1.calculo_tea(tna1)"
      ],
      "metadata": {
        "id": "8y5fE19diLY_",
        "outputId": "392fefb1-50c3-429d-cda0-5f4f4371bc1c",
        "colab": {
          "base_uri": "https://localhost:8080/"
        }
      },
      "execution_count": 26,
      "outputs": [
        {
          "name": "stdout",
          "output_type": "stream",
          "text": [
            "Ingrese los días del año: 366\n",
            "Ingrese la periodicidad de capitalización en días: 30\n"
          ]
        },
        {
          "output_type": "execute_result",
          "data": {
            "text/plain": [
              "100.99999"
            ]
          },
          "metadata": {},
          "execution_count": 26
        }
      ]
    },
    {
      "cell_type": "code",
      "source": [],
      "metadata": {
        "id": "DNJdWI6NiNgc"
      },
      "execution_count": null,
      "outputs": []
    }
  ]
}